{
 "metadata": {
  "language_info": {
   "codemirror_mode": {
    "name": "ipython",
    "version": 3
   },
   "file_extension": ".py",
   "mimetype": "text/x-python",
   "name": "python",
   "nbconvert_exporter": "python",
   "pygments_lexer": "ipython3",
   "version": "3.8.8"
  },
  "orig_nbformat": 2,
  "kernelspec": {
   "name": "python388jvsc74a57bd0cc5f70855ac006f3de45a3cc3b9e7d8d53845e50458809cb162b0174266dec97",
   "display_name": "Python 3.8.8 64-bit (conda)"
  }
 },
 "nbformat": 4,
 "nbformat_minor": 2,
 "cells": [
  {
   "cell_type": "code",
   "execution_count": 1,
   "metadata": {},
   "outputs": [
    {
     "output_type": "execute_result",
     "data": {
      "text/plain": [
       "'Jack'"
      ]
     },
     "metadata": {},
     "execution_count": 1
    }
   ],
   "source": [
    "#题目一：\n",
    "#下面的字符串列出了人的名字 和体重，\n",
    "\n",
    "str1 = 'name: Jack, weight: 130kg'\n",
    "str1[6:10]"
   ]
  },
  {
   "cell_type": "code",
   "execution_count": 2,
   "metadata": {},
   "outputs": [
    {
     "output_type": "execute_result",
     "data": {
      "text/plain": [
       "'他说：\"你好\"'"
      ]
     },
     "metadata": {},
     "execution_count": 2
    }
   ],
   "source": [
    "# 题目二：\n",
    "# 请大家写一行代码，定义一个Python字符串变量 内容为 他说：'你好'\n",
    "# 注意，字符串里面有英文的单引号\n",
    "# 再写一行代码，定义一个Python字符串 内容为 他说：\"你好\"\n",
    "\n",
    "str_hello = \"他说：'你好'\"\n",
    "str_hello\n",
    "\n",
    "str_hi = '他说：\"你好\"'\n",
    "str_hi"
   ]
  },
  {
   "cell_type": "code",
   "execution_count": 3,
   "metadata": {},
   "outputs": [
    {
     "output_type": "stream",
     "name": "stdout",
     "text": [
      "Mary\nPatrick\n"
     ]
    }
   ],
   "source": [
    "# 题目三：\n",
    "# 现有一个游戏系统的日志文件，记录内容的字符串 的格式 如下所示\n",
    "# A girl come in, the name is Jack, level 955;\n",
    "# 其中包含的 the name is 后面会跟着人名，随后紧跟一个逗号， 这是固定的格式。\n",
    "# 其它部分可能都是会变化的，比如，可能是下面这些\n",
    "# A old lady come in, the name is Mary, level 94454\n",
    "# A pretty boy come in, the name is Patrick, level 194\n",
    "# 请大家将其中的人名获取出来。\n",
    "\n",
    "#str_log[0].split(' ')[8][:-1]\n",
    "#str_log[1].split(' ')[8][:-1]\n",
    "\n",
    "str_log = ['A old lady come in, the name is Mary, level 94454','A pretty boy come in, the name is Patrick, level 194']\n",
    "for i in range(len(str_log)):\n",
    "    print(str_log[i].split(' ')[8][:-1])\n"
   ]
  },
  {
   "cell_type": "code",
   "execution_count": 4,
   "metadata": {},
   "outputs": [
    {
     "output_type": "execute_result",
     "data": {
      "text/plain": [
       "['this', 'test', 4.56, ['inner', 8]]"
      ]
     },
     "metadata": {},
     "execution_count": 4
    }
   ],
   "source": [
    "# 题目四：\n",
    "# 一个变量定义如下\n",
    "# a = ['this', 'test', 4.56, ['inner', 'list']] \n",
    "# 那么 修改其中的最后一个List元素的第二个元素值为 8\n",
    "\n",
    "a = ['this', 'test', 4.56, ['inner', 'list']] \n",
    "a[-1] [-1] = 8\n",
    "a"
   ]
  },
  {
   "cell_type": "code",
   "execution_count": 5,
   "metadata": {},
   "outputs": [
    {
     "output_type": "execute_result",
     "data": {
      "text/plain": [
       "'s'"
      ]
     },
     "metadata": {},
     "execution_count": 5
    }
   ],
   "source": [
    "# 题目五：\n",
    "# 一个变量a定义如下\n",
    "#     a = ['this', 'test', 4.56, ['inner', 'list']]\n",
    "# 那么 a[1][2] 的结果是什么\n",
    "\n",
    "a = ['this', 'test', 4.56, ['inner', 'list']]\n",
    "a[1][2]"
   ]
  },
  {
   "cell_type": "code",
   "execution_count": 6,
   "metadata": {},
   "outputs": [
    {
     "output_type": "execute_result",
     "data": {
      "text/plain": [
       "[8, 9]"
      ]
     },
     "metadata": {},
     "execution_count": 6
    }
   ],
   "source": [
    "# 题目六：\n",
    "# 变量a定义如下\n",
    "#     a = [1,2,3,4,5,6,7,8,9]\n",
    "# 要获取包含a 的最后两个元素的列表\n",
    "\n",
    "a = [1,2,3,4,5,6,7,8,9]\n",
    "a[-2:]"
   ]
  },
  {
   "cell_type": "code",
   "execution_count": 7,
   "metadata": {},
   "outputs": [],
   "source": [
    "# 题目七：（扩展作业：允许延迟到明天晚上完成）\n",
    "\n",
    "# 下面upload_log 变量中记录了一台服务器当天上传的文件信息，其中第一列是文件名，第二列是文件大小。\n",
    "\n",
    "# 请尝试编写一个程序，帮忙统计出不同类型的文件大小的总和，比如下面这样：\n",
    "# jpeg  9988999\n",
    "# json   324324\n",
    "# png   2423233\n",
    "\n",
    "# upload_log 变量的定义如下：\n",
    "upload_log = '''\n",
    "f20210111020739/i_0TDKs0rD.jpeg\t69472\tFrITJxleSP7wUD-MWw-phL_KP6Eu\t15156076847077556\timage/jpeg\t0\t\n",
    "f20210111020739/j_JFO6xiir.json\t1020\tFmUhTchdLOd7LBoE8OXzPLDKcW60\t15156077904192983\tapplication/json\t0\t\n",
    "f20210111090619/i_1BwNksbL.jpg\t19634\tFtXBGmipcDha-67WQgGQR5shEBu2\t15156329458714950\timage/jpeg\t0\t\n",
    "f20210111090619/i_3BKlsRaZ.jpg\t30152\tFoWfMSuqz4TEQl5FT-FY5wqu5NGf\t15156330575626044\timage/jpeg\t0\t\n",
    "f20210111090619/i_5XboXSKh.jpg\t40238\tFl84WaBWThHovIBsQaNFoIaPZcWh\t15156329453409855\timage/jpeg\t0\t\n",
    "f20210111090619/i_6DiYSBKp.jpg\t74017\tFrYG3icChRmFGnWQK6rYxa88KuQI\t15156329461803290\timage/jpeg\t0\t\n",
    "f20210111090619/i_76zaF2IM.jpg\t38437\tFui8g5OrJh0GQqZzT9wtepfq99lJ\t15156334738356648\timage/jpeg\t0\t\n",
    "f20210111090619/i_B6TFYjks.jpg\t37953\tFleWqlK2W1ZmEgAatAEcm1gpR0kC\t15156329464034474\timage/jpeg\t0\t\n",
    "f20210111090619/i_N9eITqj3.jpg\t38437\tFui8g5OrJh0GQqZzT9wtepfq99lJ\t15156330419595764\timage/jpeg\t0\t\n",
    "f20210111090619/i_QTSNWmA6.jpg\t37953\tFleWqlK2W1ZmEgAatAEcm1gpR0kC\t15156333104224056\timage/jpeg\t0\t\n",
    "f20210111090619/i_XdHcAfh1.jpg\t53279\tFjLQIQ3GxSEHDfu6tRcMylK1MZ05\t15156334227270309\timage/jpeg\t0\t\n",
    "f20210111090619/i_Xyy723MU.jpg\t5076\tFsfZpQzqu084RUw5NPYW9-Yfam_R\t15156334229987458\timage/jpeg\t0\t\n",
    "f20210111090619/i_d8Go0EOv.jpg\t60152\tFoWfMSuqz4TEQl5FT-FY5wqu5NGf\t15156334736228515\timage/jpeg\t0\t\n",
    "f20210111090619/i_diuHmX53.jpg\t30591\tFuTx1pw4idbKnV5MSvNGxCA5L470\t15156333878320713\timage/jpeg\t0\t\n",
    "f20210111090619/i_qQKzheSH.jpg\t55858\tFj0A3i8V7fzzOiPQFL79ao15hkN9\t15156329456666591\timage/jpeg\t0\t\n",
    "f20210111090619/i_rHL5SYk8.jpg\t40238\tFl84WaBWThHovIBsQaNFoIaPZcWh\t15156336509742181\timage/jpeg\t0\t\n",
    "f20210111090619/i_xZmQxUbz.jpg\t32238\tFl84WaBWThHovIBsQaNFoIaPZcWh\t15156333240603466\timage/jpeg\t0\t\n",
    "f20210111090619/i_zBDNgXDv.jpeg\t12315\tFlgNwq8lypgsxrWs_ksrS_x47SQV\t15156334232887875\timage/jpeg\t0\t\n",
    "'''"
   ]
  },
  {
   "cell_type": "code",
   "execution_count": 13,
   "metadata": {},
   "outputs": [
    {
     "output_type": "stream",
     "name": "stdout",
     "text": [
      "jpeg 81787\njson 1020\njpg 594253\n"
     ]
    }
   ],
   "source": [
    "list_data = upload_log.split()\n",
    "\n",
    "res = {}\n",
    "for i in range(len(list_data)):\n",
    "    if list_data[i].endswith('.jpeg') or list_data[i].endswith('.json'):\n",
    "        if list_data[i][-4:] in res:\n",
    "            res[list_data[i][-4:]]+= int(list_data[i+1])\n",
    "        else:\n",
    "            res[list_data[i][-4:]]=int(list_data[i+1])\n",
    "\n",
    "    if list_data[i].endswith('.jpg'):\n",
    "            if list_data[i][-3:] in res:\n",
    "                res[list_data[i][-3:]]+= int(list_data[i+1])\n",
    "            else:\n",
    "                res[list_data[i][-3:]]=int(list_data[i+1])    \n",
    "\n",
    "for key,value in res.items():\n",
    "    print(key,value)"
   ]
  },
  {
   "cell_type": "code",
   "execution_count": null,
   "metadata": {},
   "outputs": [],
   "source": []
  }
 ]
}